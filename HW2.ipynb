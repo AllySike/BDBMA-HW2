{
 "cells": [
  {
   "cell_type": "code",
   "execution_count": 1,
   "id": "2c4d32f9",
   "metadata": {},
   "outputs": [],
   "source": [
    "import pandas as pd"
   ]
  },
  {
   "cell_type": "code",
   "execution_count": 2,
   "id": "ba76f86a",
   "metadata": {},
   "outputs": [
    {
     "data": {
      "text/html": [
       "<div>\n",
       "<style scoped>\n",
       "    .dataframe tbody tr th:only-of-type {\n",
       "        vertical-align: middle;\n",
       "    }\n",
       "\n",
       "    .dataframe tbody tr th {\n",
       "        vertical-align: top;\n",
       "    }\n",
       "\n",
       "    .dataframe thead th {\n",
       "        text-align: right;\n",
       "    }\n",
       "</style>\n",
       "<table border=\"1\" class=\"dataframe\">\n",
       "  <thead>\n",
       "    <tr style=\"text-align: right;\">\n",
       "      <th></th>\n",
       "      <th>channel_type</th>\n",
       "      <th>contact_dt</th>\n",
       "      <th>control_group_flg</th>\n",
       "      <th>sent</th>\n",
       "      <th>delivered</th>\n",
       "      <th>opened</th>\n",
       "      <th>clicked</th>\n",
       "      <th>blocked</th>\n",
       "      <th>cust_id</th>\n",
       "    </tr>\n",
       "  </thead>\n",
       "  <tbody>\n",
       "    <tr>\n",
       "      <th>0</th>\n",
       "      <td>Popup</td>\n",
       "      <td>2021-08-23</td>\n",
       "      <td>0</td>\n",
       "      <td>1</td>\n",
       "      <td>1</td>\n",
       "      <td>1</td>\n",
       "      <td>0</td>\n",
       "      <td>0</td>\n",
       "      <td>5d0a0cae173c27947838b9f3ad1282fa30771272747ede...</td>\n",
       "    </tr>\n",
       "    <tr>\n",
       "      <th>1</th>\n",
       "      <td>EMAIL</td>\n",
       "      <td>2021-08-12</td>\n",
       "      <td>0</td>\n",
       "      <td>1</td>\n",
       "      <td>1</td>\n",
       "      <td>0</td>\n",
       "      <td>0</td>\n",
       "      <td>0</td>\n",
       "      <td>b70d7c45f4d1724acdba89bead5941f13d93406bcbb1d7...</td>\n",
       "    </tr>\n",
       "    <tr>\n",
       "      <th>2</th>\n",
       "      <td>Popup</td>\n",
       "      <td>2021-08-11</td>\n",
       "      <td>0</td>\n",
       "      <td>1</td>\n",
       "      <td>1</td>\n",
       "      <td>1</td>\n",
       "      <td>0</td>\n",
       "      <td>0</td>\n",
       "      <td>1b3705d419798b8723884b643dc535ae7fc7623d6f4f7c...</td>\n",
       "    </tr>\n",
       "    <tr>\n",
       "      <th>3</th>\n",
       "      <td>PUSH</td>\n",
       "      <td>2021-08-12</td>\n",
       "      <td>0</td>\n",
       "      <td>0</td>\n",
       "      <td>0</td>\n",
       "      <td>0</td>\n",
       "      <td>0</td>\n",
       "      <td>0</td>\n",
       "      <td>0064bbbb2fd516698fd113adcabef8bb52824536512e8e...</td>\n",
       "    </tr>\n",
       "    <tr>\n",
       "      <th>4</th>\n",
       "      <td>PUSH</td>\n",
       "      <td>2021-08-12</td>\n",
       "      <td>0</td>\n",
       "      <td>0</td>\n",
       "      <td>0</td>\n",
       "      <td>0</td>\n",
       "      <td>0</td>\n",
       "      <td>0</td>\n",
       "      <td>3f0be853435987e9aff8cba237e8c19334708a996cf696...</td>\n",
       "    </tr>\n",
       "  </tbody>\n",
       "</table>\n",
       "</div>"
      ],
      "text/plain": [
       "  channel_type contact_dt  control_group_flg  sent  delivered  opened  \\\n",
       "0        Popup 2021-08-23                  0     1          1       1   \n",
       "1        EMAIL 2021-08-12                  0     1          1       0   \n",
       "2        Popup 2021-08-11                  0     1          1       1   \n",
       "3         PUSH 2021-08-12                  0     0          0       0   \n",
       "4         PUSH 2021-08-12                  0     0          0       0   \n",
       "\n",
       "   clicked  blocked                                            cust_id  \n",
       "0        0        0  5d0a0cae173c27947838b9f3ad1282fa30771272747ede...  \n",
       "1        0        0  b70d7c45f4d1724acdba89bead5941f13d93406bcbb1d7...  \n",
       "2        0        0  1b3705d419798b8723884b643dc535ae7fc7623d6f4f7c...  \n",
       "3        0        0  0064bbbb2fd516698fd113adcabef8bb52824536512e8e...  \n",
       "4        0        0  3f0be853435987e9aff8cba237e8c19334708a996cf696...  "
      ]
     },
     "execution_count": 2,
     "metadata": {},
     "output_type": "execute_result"
    }
   ],
   "source": [
    "funnel_metrics = pd.read_csv(\"visa_communications.csv\", parse_dates=['contact_dt'])\n",
    "funnel_metrics.head()"
   ]
  },
  {
   "cell_type": "code",
   "execution_count": 3,
   "id": "6deb931d",
   "metadata": {},
   "outputs": [
    {
     "name": "stdout",
     "output_type": "stream",
     "text": [
      "<class 'pandas.core.frame.DataFrame'>\n",
      "RangeIndex: 1456826 entries, 0 to 1456825\n",
      "Data columns (total 9 columns):\n",
      " #   Column             Non-Null Count    Dtype         \n",
      "---  ------             --------------    -----         \n",
      " 0   channel_type       1456826 non-null  object        \n",
      " 1   contact_dt         1456826 non-null  datetime64[ns]\n",
      " 2   control_group_flg  1456826 non-null  int64         \n",
      " 3   sent               1456826 non-null  int64         \n",
      " 4   delivered          1456826 non-null  int64         \n",
      " 5   opened             1456826 non-null  int64         \n",
      " 6   clicked            1456826 non-null  int64         \n",
      " 7   blocked            1456826 non-null  int64         \n",
      " 8   cust_id            1456826 non-null  object        \n",
      "dtypes: datetime64[ns](1), int64(6), object(2)\n",
      "memory usage: 100.0+ MB\n"
     ]
    }
   ],
   "source": [
    "funnel_metrics.info()"
   ]
  },
  {
   "cell_type": "code",
   "execution_count": 4,
   "id": "53bae14e",
   "metadata": {},
   "outputs": [
    {
     "data": {
      "text/html": [
       "<div>\n",
       "<style scoped>\n",
       "    .dataframe tbody tr th:only-of-type {\n",
       "        vertical-align: middle;\n",
       "    }\n",
       "\n",
       "    .dataframe tbody tr th {\n",
       "        vertical-align: top;\n",
       "    }\n",
       "\n",
       "    .dataframe thead th {\n",
       "        text-align: right;\n",
       "    }\n",
       "</style>\n",
       "<table border=\"1\" class=\"dataframe\">\n",
       "  <thead>\n",
       "    <tr style=\"text-align: right;\">\n",
       "      <th></th>\n",
       "      <th>cust_id</th>\n",
       "      <th>open_dt</th>\n",
       "      <th>contact_dt</th>\n",
       "    </tr>\n",
       "  </thead>\n",
       "  <tbody>\n",
       "    <tr>\n",
       "      <th>0</th>\n",
       "      <td>2537ec14c2e5b8607ea67dfe09ec687205c59ed152407f...</td>\n",
       "      <td>2021-08-19</td>\n",
       "      <td>2021-08-12</td>\n",
       "    </tr>\n",
       "    <tr>\n",
       "      <th>1</th>\n",
       "      <td>b6bc9799397f07c8304673d4d51e7788a143ecb710452e...</td>\n",
       "      <td>2021-08-16</td>\n",
       "      <td>2021-08-13</td>\n",
       "    </tr>\n",
       "    <tr>\n",
       "      <th>2</th>\n",
       "      <td>d09ee17e668f229697a15a940915714b838826305e6973...</td>\n",
       "      <td>2021-08-21</td>\n",
       "      <td>2021-08-13</td>\n",
       "    </tr>\n",
       "    <tr>\n",
       "      <th>3</th>\n",
       "      <td>2323b4ae10e99e72160a74c5b42c38e47f2bc0692ef0a9...</td>\n",
       "      <td>2021-08-23</td>\n",
       "      <td>2021-08-13</td>\n",
       "    </tr>\n",
       "    <tr>\n",
       "      <th>4</th>\n",
       "      <td>b056b9822c2208a83eeb7150ee4be30d7088b07fed0ec5...</td>\n",
       "      <td>2021-08-23</td>\n",
       "      <td>2021-08-13</td>\n",
       "    </tr>\n",
       "  </tbody>\n",
       "</table>\n",
       "</div>"
      ],
      "text/plain": [
       "                                             cust_id    open_dt contact_dt\n",
       "0  2537ec14c2e5b8607ea67dfe09ec687205c59ed152407f... 2021-08-19 2021-08-12\n",
       "1  b6bc9799397f07c8304673d4d51e7788a143ecb710452e... 2021-08-16 2021-08-13\n",
       "2  d09ee17e668f229697a15a940915714b838826305e6973... 2021-08-21 2021-08-13\n",
       "3  2323b4ae10e99e72160a74c5b42c38e47f2bc0692ef0a9... 2021-08-23 2021-08-13\n",
       "4  b056b9822c2208a83eeb7150ee4be30d7088b07fed0ec5... 2021-08-23 2021-08-13"
      ]
     },
     "execution_count": 4,
     "metadata": {},
     "output_type": "execute_result"
    }
   ],
   "source": [
    "card_openings_particip = pd.read_csv(\"card_openings.csv\", parse_dates=['open_dt', 'contact_dt'])\n",
    "card_openings_particip.head()"
   ]
  },
  {
   "cell_type": "code",
   "execution_count": 5,
   "id": "7949bdb8",
   "metadata": {},
   "outputs": [
    {
     "name": "stdout",
     "output_type": "stream",
     "text": [
      "<class 'pandas.core.frame.DataFrame'>\n",
      "RangeIndex: 22995 entries, 0 to 22994\n",
      "Data columns (total 3 columns):\n",
      " #   Column      Non-Null Count  Dtype         \n",
      "---  ------      --------------  -----         \n",
      " 0   cust_id     22995 non-null  object        \n",
      " 1   open_dt     22995 non-null  datetime64[ns]\n",
      " 2   contact_dt  22995 non-null  datetime64[ns]\n",
      "dtypes: datetime64[ns](2), object(1)\n",
      "memory usage: 539.1+ KB\n"
     ]
    }
   ],
   "source": [
    "card_openings_particip.info()"
   ]
  },
  {
   "cell_type": "code",
   "execution_count": 6,
   "id": "88ced6ae",
   "metadata": {
    "scrolled": true
   },
   "outputs": [
    {
     "data": {
      "text/html": [
       "<div>\n",
       "<style scoped>\n",
       "    .dataframe tbody tr th:only-of-type {\n",
       "        vertical-align: middle;\n",
       "    }\n",
       "\n",
       "    .dataframe tbody tr th {\n",
       "        vertical-align: top;\n",
       "    }\n",
       "\n",
       "    .dataframe thead th {\n",
       "        text-align: right;\n",
       "    }\n",
       "</style>\n",
       "<table border=\"1\" class=\"dataframe\">\n",
       "  <thead>\n",
       "    <tr style=\"text-align: right;\">\n",
       "      <th></th>\n",
       "      <th>cust_id</th>\n",
       "      <th>open_dt</th>\n",
       "      <th>contact_dt</th>\n",
       "    </tr>\n",
       "  </thead>\n",
       "  <tbody>\n",
       "    <tr>\n",
       "      <th>0</th>\n",
       "      <td>00142a5cfe4dd6ac883e4dc0ba888d6266ce99257e0825...</td>\n",
       "      <td>2021-08-26</td>\n",
       "      <td>0</td>\n",
       "    </tr>\n",
       "    <tr>\n",
       "      <th>1</th>\n",
       "      <td>00b037b74b45a2a0c9dc64b59a2587dd79dabc93e1d84b...</td>\n",
       "      <td>2021-08-12</td>\n",
       "      <td>0</td>\n",
       "    </tr>\n",
       "    <tr>\n",
       "      <th>2</th>\n",
       "      <td>00d312b7591fdc7d5607feac6ebcff5223d2162bff5248...</td>\n",
       "      <td>2021-08-26</td>\n",
       "      <td>0</td>\n",
       "    </tr>\n",
       "    <tr>\n",
       "      <th>3</th>\n",
       "      <td>01965e567e31d90ae31b5476a7bdb44b76ebf0d3950cf4...</td>\n",
       "      <td>2021-08-04</td>\n",
       "      <td>0</td>\n",
       "    </tr>\n",
       "    <tr>\n",
       "      <th>4</th>\n",
       "      <td>02a874b8110d3a04c551a88d8e35529e2faf553d8512e5...</td>\n",
       "      <td>2021-08-04</td>\n",
       "      <td>0</td>\n",
       "    </tr>\n",
       "  </tbody>\n",
       "</table>\n",
       "</div>"
      ],
      "text/plain": [
       "                                             cust_id    open_dt contact_dt\n",
       "0  00142a5cfe4dd6ac883e4dc0ba888d6266ce99257e0825... 2021-08-26          0\n",
       "1  00b037b74b45a2a0c9dc64b59a2587dd79dabc93e1d84b... 2021-08-12          0\n",
       "2  00d312b7591fdc7d5607feac6ebcff5223d2162bff5248... 2021-08-26          0\n",
       "3  01965e567e31d90ae31b5476a7bdb44b76ebf0d3950cf4... 2021-08-04          0\n",
       "4  02a874b8110d3a04c551a88d8e35529e2faf553d8512e5... 2021-08-04          0"
      ]
     },
     "execution_count": 6,
     "metadata": {},
     "output_type": "execute_result"
    }
   ],
   "source": [
    "card_openings_not_particip = pd.read_csv(\"card_openings_non_participants.csv\", parse_dates=['open_dt', 'contact_dt'])\n",
    "card_openings_not_particip.head()"
   ]
  },
  {
   "cell_type": "code",
   "execution_count": 7,
   "id": "17c5df82",
   "metadata": {},
   "outputs": [
    {
     "name": "stdout",
     "output_type": "stream",
     "text": [
      "<class 'pandas.core.frame.DataFrame'>\n",
      "RangeIndex: 25589 entries, 0 to 25588\n",
      "Data columns (total 3 columns):\n",
      " #   Column      Non-Null Count  Dtype         \n",
      "---  ------      --------------  -----         \n",
      " 0   cust_id     25589 non-null  object        \n",
      " 1   open_dt     25589 non-null  datetime64[ns]\n",
      " 2   contact_dt  25589 non-null  object        \n",
      "dtypes: datetime64[ns](1), object(2)\n",
      "memory usage: 599.9+ KB\n"
     ]
    }
   ],
   "source": [
    "card_openings_not_particip.info()"
   ]
  },
  {
   "cell_type": "code",
   "execution_count": 8,
   "id": "8f96c6d7",
   "metadata": {},
   "outputs": [
    {
     "data": {
      "text/html": [
       "<div>\n",
       "<style scoped>\n",
       "    .dataframe tbody tr th:only-of-type {\n",
       "        vertical-align: middle;\n",
       "    }\n",
       "\n",
       "    .dataframe tbody tr th {\n",
       "        vertical-align: top;\n",
       "    }\n",
       "\n",
       "    .dataframe thead th {\n",
       "        text-align: right;\n",
       "    }\n",
       "</style>\n",
       "<table border=\"1\" class=\"dataframe\">\n",
       "  <thead>\n",
       "    <tr style=\"text-align: right;\">\n",
       "      <th></th>\n",
       "      <th>cust_id</th>\n",
       "      <th>transaction_dt</th>\n",
       "      <th>mcc_id</th>\n",
       "      <th>txn_sum</th>\n",
       "    </tr>\n",
       "  </thead>\n",
       "  <tbody>\n",
       "    <tr>\n",
       "      <th>0</th>\n",
       "      <td>db5e62076fad2729571f211d7ca4d5be1ba71e7563efbb...</td>\n",
       "      <td>2021-09-09</td>\n",
       "      <td>5399</td>\n",
       "      <td>2322.00</td>\n",
       "    </tr>\n",
       "    <tr>\n",
       "      <th>1</th>\n",
       "      <td>9fc01d326a0adcb9caaabe298064b8a26aa711878cf89f...</td>\n",
       "      <td>2021-09-07</td>\n",
       "      <td>5533</td>\n",
       "      <td>1245.00</td>\n",
       "    </tr>\n",
       "    <tr>\n",
       "      <th>2</th>\n",
       "      <td>7afcb430aaf9baa1786d36ffcdf3efec0f4f6fe41b32fc...</td>\n",
       "      <td>2021-08-30</td>\n",
       "      <td>5921</td>\n",
       "      <td>29.99</td>\n",
       "    </tr>\n",
       "    <tr>\n",
       "      <th>3</th>\n",
       "      <td>79a2d16cd93c5d15120f30f4a6a0b39060f6cdde7486c8...</td>\n",
       "      <td>2021-09-04</td>\n",
       "      <td>5211</td>\n",
       "      <td>110.00</td>\n",
       "    </tr>\n",
       "    <tr>\n",
       "      <th>4</th>\n",
       "      <td>0c10b18ba26cb55e4b1aed9146cf359d034fa872feeba6...</td>\n",
       "      <td>2021-08-31</td>\n",
       "      <td>5441</td>\n",
       "      <td>45.00</td>\n",
       "    </tr>\n",
       "  </tbody>\n",
       "</table>\n",
       "</div>"
      ],
      "text/plain": [
       "                                             cust_id transaction_dt  mcc_id  \\\n",
       "0  db5e62076fad2729571f211d7ca4d5be1ba71e7563efbb...     2021-09-09    5399   \n",
       "1  9fc01d326a0adcb9caaabe298064b8a26aa711878cf89f...     2021-09-07    5533   \n",
       "2  7afcb430aaf9baa1786d36ffcdf3efec0f4f6fe41b32fc...     2021-08-30    5921   \n",
       "3  79a2d16cd93c5d15120f30f4a6a0b39060f6cdde7486c8...     2021-09-04    5211   \n",
       "4  0c10b18ba26cb55e4b1aed9146cf359d034fa872feeba6...     2021-08-31    5441   \n",
       "\n",
       "   txn_sum  \n",
       "0  2322.00  \n",
       "1  1245.00  \n",
       "2    29.99  \n",
       "3   110.00  \n",
       "4    45.00  "
      ]
     },
     "execution_count": 8,
     "metadata": {},
     "output_type": "execute_result"
    }
   ],
   "source": [
    "transactions_particip = pd.read_csv(\"visa_transactions.csv\", parse_dates=['transaction_dt'])\n",
    "transactions_particip.head()"
   ]
  },
  {
   "cell_type": "markdown",
   "id": "6e49c2ae",
   "metadata": {},
   "source": [
    "transactions_particip['transaction_dt'] = pd.to_datetime(transactions_particip['transaction_dt'], format='%Y%m%d')"
   ]
  },
  {
   "cell_type": "code",
   "execution_count": 9,
   "id": "303edb17",
   "metadata": {},
   "outputs": [
    {
     "name": "stdout",
     "output_type": "stream",
     "text": [
      "<class 'pandas.core.frame.DataFrame'>\n",
      "RangeIndex: 396564 entries, 0 to 396563\n",
      "Data columns (total 4 columns):\n",
      " #   Column          Non-Null Count   Dtype         \n",
      "---  ------          --------------   -----         \n",
      " 0   cust_id         396564 non-null  object        \n",
      " 1   transaction_dt  396564 non-null  datetime64[ns]\n",
      " 2   mcc_id          396564 non-null  int64         \n",
      " 3   txn_sum         396564 non-null  float64       \n",
      "dtypes: datetime64[ns](1), float64(1), int64(1), object(1)\n",
      "memory usage: 12.1+ MB\n"
     ]
    }
   ],
   "source": [
    "transactions_particip.info()"
   ]
  },
  {
   "cell_type": "code",
   "execution_count": 10,
   "id": "1219d00b",
   "metadata": {},
   "outputs": [
    {
     "data": {
      "text/html": [
       "<div>\n",
       "<style scoped>\n",
       "    .dataframe tbody tr th:only-of-type {\n",
       "        vertical-align: middle;\n",
       "    }\n",
       "\n",
       "    .dataframe tbody tr th {\n",
       "        vertical-align: top;\n",
       "    }\n",
       "\n",
       "    .dataframe thead th {\n",
       "        text-align: right;\n",
       "    }\n",
       "</style>\n",
       "<table border=\"1\" class=\"dataframe\">\n",
       "  <thead>\n",
       "    <tr style=\"text-align: right;\">\n",
       "      <th></th>\n",
       "      <th>cust_id</th>\n",
       "      <th>transaction_dt</th>\n",
       "      <th>mcc_id</th>\n",
       "      <th>txn_sum</th>\n",
       "    </tr>\n",
       "  </thead>\n",
       "  <tbody>\n",
       "    <tr>\n",
       "      <th>0</th>\n",
       "      <td>7ab840dd10c9eec7ba477160c74eaff315746f5db370c9...</td>\n",
       "      <td>2021-08-28</td>\n",
       "      <td>5499</td>\n",
       "      <td>645.00</td>\n",
       "    </tr>\n",
       "    <tr>\n",
       "      <th>1</th>\n",
       "      <td>b920f5f439d996cb87ff138610bd123bcd03dae7bc4602...</td>\n",
       "      <td>2021-09-15</td>\n",
       "      <td>5921</td>\n",
       "      <td>304.56</td>\n",
       "    </tr>\n",
       "    <tr>\n",
       "      <th>2</th>\n",
       "      <td>e14bc4726c13b92a503e2089654a4abf05f1ce9effee52...</td>\n",
       "      <td>2021-09-09</td>\n",
       "      <td>5912</td>\n",
       "      <td>1249.40</td>\n",
       "    </tr>\n",
       "    <tr>\n",
       "      <th>3</th>\n",
       "      <td>a6d6a39ca52e7e1b6743274c94c1ed3b1ec06d7a726a51...</td>\n",
       "      <td>2021-08-30</td>\n",
       "      <td>5411</td>\n",
       "      <td>346.27</td>\n",
       "    </tr>\n",
       "    <tr>\n",
       "      <th>4</th>\n",
       "      <td>380a3ce00a9dff9daccb414c20dcc82c30100c23f23265...</td>\n",
       "      <td>2021-08-21</td>\n",
       "      <td>5812</td>\n",
       "      <td>35.00</td>\n",
       "    </tr>\n",
       "  </tbody>\n",
       "</table>\n",
       "</div>"
      ],
      "text/plain": [
       "                                             cust_id transaction_dt  mcc_id  \\\n",
       "0  7ab840dd10c9eec7ba477160c74eaff315746f5db370c9...     2021-08-28    5499   \n",
       "1  b920f5f439d996cb87ff138610bd123bcd03dae7bc4602...     2021-09-15    5921   \n",
       "2  e14bc4726c13b92a503e2089654a4abf05f1ce9effee52...     2021-09-09    5912   \n",
       "3  a6d6a39ca52e7e1b6743274c94c1ed3b1ec06d7a726a51...     2021-08-30    5411   \n",
       "4  380a3ce00a9dff9daccb414c20dcc82c30100c23f23265...     2021-08-21    5812   \n",
       "\n",
       "   txn_sum  \n",
       "0   645.00  \n",
       "1   304.56  \n",
       "2  1249.40  \n",
       "3   346.27  \n",
       "4    35.00  "
      ]
     },
     "execution_count": 10,
     "metadata": {},
     "output_type": "execute_result"
    }
   ],
   "source": [
    "transactions_non_particip = pd.read_csv(\"visa_transactions_non_particip.csv\", parse_dates=['transaction_dt'])\n",
    "transactions_non_particip.head()"
   ]
  },
  {
   "cell_type": "code",
   "execution_count": 11,
   "id": "89297baa",
   "metadata": {},
   "outputs": [
    {
     "name": "stdout",
     "output_type": "stream",
     "text": [
      "<class 'pandas.core.frame.DataFrame'>\n",
      "RangeIndex: 543494 entries, 0 to 543493\n",
      "Data columns (total 4 columns):\n",
      " #   Column          Non-Null Count   Dtype         \n",
      "---  ------          --------------   -----         \n",
      " 0   cust_id         543494 non-null  object        \n",
      " 1   transaction_dt  543494 non-null  datetime64[ns]\n",
      " 2   mcc_id          543494 non-null  int64         \n",
      " 3   txn_sum         543494 non-null  float64       \n",
      "dtypes: datetime64[ns](1), float64(1), int64(1), object(1)\n",
      "memory usage: 16.6+ MB\n"
     ]
    }
   ],
   "source": [
    "transactions_non_particip.info()"
   ]
  },
  {
   "cell_type": "code",
   "execution_count": 12,
   "id": "fab9dcb8",
   "metadata": {},
   "outputs": [
    {
     "data": {
      "text/html": [
       "<div>\n",
       "<style scoped>\n",
       "    .dataframe tbody tr th:only-of-type {\n",
       "        vertical-align: middle;\n",
       "    }\n",
       "\n",
       "    .dataframe tbody tr th {\n",
       "        vertical-align: top;\n",
       "    }\n",
       "\n",
       "    .dataframe thead th {\n",
       "        text-align: right;\n",
       "    }\n",
       "</style>\n",
       "<table border=\"1\" class=\"dataframe\">\n",
       "  <thead>\n",
       "    <tr style=\"text-align: right;\">\n",
       "      <th></th>\n",
       "      <th>cust_id</th>\n",
       "      <th>mnth_gen</th>\n",
       "      <th>turnover</th>\n",
       "      <th>involve_cd</th>\n",
       "      <th>client_segment</th>\n",
       "      <th>gender</th>\n",
       "      <th>age_gr</th>\n",
       "    </tr>\n",
       "  </thead>\n",
       "  <tbody>\n",
       "    <tr>\n",
       "      <th>0</th>\n",
       "      <td>ad767176b86d500e5b8421315731388ff6c5ec93079ec9...</td>\n",
       "      <td>2021-06-01</td>\n",
       "      <td>17764.83</td>\n",
       "      <td>1</td>\n",
       "      <td>MASS</td>\n",
       "      <td>F</td>\n",
       "      <td>25-40</td>\n",
       "    </tr>\n",
       "    <tr>\n",
       "      <th>1</th>\n",
       "      <td>cc7c069e1866b0e14e6a733ecddaa9e503ebe5b422b796...</td>\n",
       "      <td>2021-06-01</td>\n",
       "      <td>18817.45</td>\n",
       "      <td>1</td>\n",
       "      <td>MASS</td>\n",
       "      <td>M</td>\n",
       "      <td>25-40</td>\n",
       "    </tr>\n",
       "    <tr>\n",
       "      <th>2</th>\n",
       "      <td>914c9e80623d8fdecb0fa39662089aa78c7c076182728f...</td>\n",
       "      <td>2021-01-01</td>\n",
       "      <td>19198.74</td>\n",
       "      <td>1</td>\n",
       "      <td>MVS LIGHT</td>\n",
       "      <td>F</td>\n",
       "      <td>25-40</td>\n",
       "    </tr>\n",
       "    <tr>\n",
       "      <th>3</th>\n",
       "      <td>e45e78863f239d3933462c1a06a9f23727033232851fb5...</td>\n",
       "      <td>2021-04-01</td>\n",
       "      <td>114637.54</td>\n",
       "      <td>1</td>\n",
       "      <td>MVS UPPER</td>\n",
       "      <td>F</td>\n",
       "      <td>40-60</td>\n",
       "    </tr>\n",
       "    <tr>\n",
       "      <th>4</th>\n",
       "      <td>2201a68b8c83f098aee50a5b787bb8344a90b2b9a64b83...</td>\n",
       "      <td>2021-07-01</td>\n",
       "      <td>112603.01</td>\n",
       "      <td>0</td>\n",
       "      <td>MVS LIGHT</td>\n",
       "      <td>F</td>\n",
       "      <td>25-40</td>\n",
       "    </tr>\n",
       "  </tbody>\n",
       "</table>\n",
       "</div>"
      ],
      "text/plain": [
       "                                             cust_id    mnth_gen   turnover  \\\n",
       "0  ad767176b86d500e5b8421315731388ff6c5ec93079ec9...  2021-06-01   17764.83   \n",
       "1  cc7c069e1866b0e14e6a733ecddaa9e503ebe5b422b796...  2021-06-01   18817.45   \n",
       "2  914c9e80623d8fdecb0fa39662089aa78c7c076182728f...  2021-01-01   19198.74   \n",
       "3  e45e78863f239d3933462c1a06a9f23727033232851fb5...  2021-04-01  114637.54   \n",
       "4  2201a68b8c83f098aee50a5b787bb8344a90b2b9a64b83...  2021-07-01  112603.01   \n",
       "\n",
       "   involve_cd client_segment gender age_gr  \n",
       "0           1           MASS      F  25-40  \n",
       "1           1           MASS      M  25-40  \n",
       "2           1      MVS LIGHT      F  25-40  \n",
       "3           1      MVS UPPER      F  40-60  \n",
       "4           0      MVS LIGHT      F  25-40  "
      ]
     },
     "execution_count": 12,
     "metadata": {},
     "output_type": "execute_result"
    }
   ],
   "source": [
    "features = pd.read_csv(\"features.csv\")\n",
    "features.head()"
   ]
  },
  {
   "cell_type": "code",
   "execution_count": 13,
   "id": "612b493b",
   "metadata": {},
   "outputs": [
    {
     "name": "stdout",
     "output_type": "stream",
     "text": [
      "<class 'pandas.core.frame.DataFrame'>\n",
      "RangeIndex: 31418100 entries, 0 to 31418099\n",
      "Data columns (total 7 columns):\n",
      " #   Column          Dtype  \n",
      "---  ------          -----  \n",
      " 0   cust_id         object \n",
      " 1   mnth_gen        object \n",
      " 2   turnover        float64\n",
      " 3   involve_cd      int64  \n",
      " 4   client_segment  object \n",
      " 5   gender          object \n",
      " 6   age_gr          object \n",
      "dtypes: float64(1), int64(1), object(5)\n",
      "memory usage: 1.6+ GB\n"
     ]
    }
   ],
   "source": [
    "features.info()"
   ]
  },
  {
   "cell_type": "code",
   "execution_count": null,
   "id": "3a023003",
   "metadata": {},
   "outputs": [],
   "source": []
  },
  {
   "cell_type": "code",
   "execution_count": null,
   "id": "8cf4fd11",
   "metadata": {},
   "outputs": [],
   "source": []
  },
  {
   "cell_type": "markdown",
   "id": "b1901d8d",
   "metadata": {
    "id": "kIm6aMFbHOnf"
   },
   "source": [
    "We have chosen four key indicators of the campaign:\n",
    "\n",
    "*   the open rate\n",
    "*   click-through rate\n",
    "*   conversion rate\n",
    "*   revenue per email\n",
    "\n",
    "\n",
    "\n",
    "\n",
    "\n",
    "\n",
    "\n",
    "\n"
   ]
  },
  {
   "cell_type": "markdown",
   "id": "0b6c8d0d",
   "metadata": {},
   "source": [
    "The open rate is calculated by dividing the number of opened emails to the number of delivered emails.\n",
    "\n",
    "\n",
    "*   nbr of  opened emails / sent emails \n",
    "*   nbr of opened emails / sent and delivered emails\n",
    "\n"
   ]
  },
  {
   "cell_type": "code",
   "execution_count": 14,
   "id": "84b38fdd",
   "metadata": {},
   "outputs": [
    {
     "name": "stdout",
     "output_type": "stream",
     "text": [
      "open rate:  0.40204442911453725\n"
     ]
    }
   ],
   "source": [
    "sent = len(funnel_metrics[(funnel_metrics['control_group_flg'] != 1)&(funnel_metrics['sent'] != 0) & (funnel_metrics['delivered'] != 0)])\n",
    "opened = len(funnel_metrics[(funnel_metrics['control_group_flg'] != 1) & (funnel_metrics['opened'] != 0)])\n",
    "rez=opened/sent\n",
    "print('open rate: ',rez)"
   ]
  },
  {
   "cell_type": "code",
   "execution_count": 15,
   "id": "bc401d21",
   "metadata": {},
   "outputs": [
    {
     "name": "stdout",
     "output_type": "stream",
     "text": [
      "click-through rate:  0.03093907799062114\n"
     ]
    }
   ],
   "source": [
    "clicked = len(funnel_metrics[(funnel_metrics['control_group_flg'] != 1) & (funnel_metrics['clicked'] != 0)])\n",
    "print(\"click-through rate: \", clicked/sent)"
   ]
  },
  {
   "cell_type": "code",
   "execution_count": 16,
   "id": "992e8da6",
   "metadata": {},
   "outputs": [
    {
     "name": "stdout",
     "output_type": "stream",
     "text": [
      "Conversion rate:  0.029159935174782076\n"
     ]
    }
   ],
   "source": [
    "new_customers = len(card_openings_particip)\n",
    "conversion = new_customers / sent \n",
    "\n",
    "print(\"Conversion rate: \", conversion)"
   ]
  },
  {
   "cell_type": "code",
   "execution_count": 17,
   "id": "88f77157",
   "metadata": {},
   "outputs": [
    {
     "data": {
      "text/html": [
       "<div>\n",
       "<style scoped>\n",
       "    .dataframe tbody tr th:only-of-type {\n",
       "        vertical-align: middle;\n",
       "    }\n",
       "\n",
       "    .dataframe tbody tr th {\n",
       "        vertical-align: top;\n",
       "    }\n",
       "\n",
       "    .dataframe thead th {\n",
       "        text-align: right;\n",
       "    }\n",
       "</style>\n",
       "<table border=\"1\" class=\"dataframe\">\n",
       "  <thead>\n",
       "    <tr style=\"text-align: right;\">\n",
       "      <th></th>\n",
       "      <th>tg_cust_id</th>\n",
       "      <th>synthetic_control_group_cust_id</th>\n",
       "    </tr>\n",
       "  </thead>\n",
       "  <tbody>\n",
       "    <tr>\n",
       "      <th>0</th>\n",
       "      <td>0002389bfab4bb945654b5b3ac7441e2c634e6062fc780...</td>\n",
       "      <td>1b5e8227cdc3e41b8159684a4ca09c6107cebc2b92630e...</td>\n",
       "    </tr>\n",
       "    <tr>\n",
       "      <th>1</th>\n",
       "      <td>0003e193ac559ca40490de7e059116752e4e621366ba2c...</td>\n",
       "      <td>b3433e2f2b7eb77ffb9806e7ad9ebbeb2d119d2bdf1682...</td>\n",
       "    </tr>\n",
       "    <tr>\n",
       "      <th>2</th>\n",
       "      <td>000bcd2b9a9baba21d919252a67b4a72d73ee6b666aac3...</td>\n",
       "      <td>9e5ed7736baad40b61b4c86534ddf6d608da8f718c8b6b...</td>\n",
       "    </tr>\n",
       "    <tr>\n",
       "      <th>3</th>\n",
       "      <td>000f349449114fbb293ba4cb4f8efb48adaebd7aade67b...</td>\n",
       "      <td>125eeca73effdac0d44004de3ee7720556d2fe3a30f58f...</td>\n",
       "    </tr>\n",
       "    <tr>\n",
       "      <th>4</th>\n",
       "      <td>0011c3bb53e4f73534edf3e922abae44ccc1333ba9a7b3...</td>\n",
       "      <td>bb08bea34c22a12e8c8209b84717fb8906b2c978316933...</td>\n",
       "    </tr>\n",
       "  </tbody>\n",
       "</table>\n",
       "</div>"
      ],
      "text/plain": [
       "                                          tg_cust_id  \\\n",
       "0  0002389bfab4bb945654b5b3ac7441e2c634e6062fc780...   \n",
       "1  0003e193ac559ca40490de7e059116752e4e621366ba2c...   \n",
       "2  000bcd2b9a9baba21d919252a67b4a72d73ee6b666aac3...   \n",
       "3  000f349449114fbb293ba4cb4f8efb48adaebd7aade67b...   \n",
       "4  0011c3bb53e4f73534edf3e922abae44ccc1333ba9a7b3...   \n",
       "\n",
       "                     synthetic_control_group_cust_id  \n",
       "0  1b5e8227cdc3e41b8159684a4ca09c6107cebc2b92630e...  \n",
       "1  b3433e2f2b7eb77ffb9806e7ad9ebbeb2d119d2bdf1682...  \n",
       "2  9e5ed7736baad40b61b4c86534ddf6d608da8f718c8b6b...  \n",
       "3  125eeca73effdac0d44004de3ee7720556d2fe3a30f58f...  \n",
       "4  bb08bea34c22a12e8c8209b84717fb8906b2c978316933...  "
      ]
     },
     "execution_count": 17,
     "metadata": {},
     "output_type": "execute_result"
    }
   ],
   "source": [
    "twins_to_compare = pd.read_csv(\"twins_base_202112121317.csv\")\n",
    "twins_to_compare.head()"
   ]
  },
  {
   "cell_type": "code",
   "execution_count": 28,
   "id": "513d1310",
   "metadata": {},
   "outputs": [
    {
     "data": {
      "text/html": [
       "<div>\n",
       "<style scoped>\n",
       "    .dataframe tbody tr th:only-of-type {\n",
       "        vertical-align: middle;\n",
       "    }\n",
       "\n",
       "    .dataframe tbody tr th {\n",
       "        vertical-align: top;\n",
       "    }\n",
       "\n",
       "    .dataframe thead th {\n",
       "        text-align: right;\n",
       "    }\n",
       "</style>\n",
       "<table border=\"1\" class=\"dataframe\">\n",
       "  <thead>\n",
       "    <tr style=\"text-align: right;\">\n",
       "      <th></th>\n",
       "      <th>cust_id</th>\n",
       "      <th>transaction_dt</th>\n",
       "      <th>mcc_id</th>\n",
       "      <th>txn_sum</th>\n",
       "    </tr>\n",
       "  </thead>\n",
       "  <tbody>\n",
       "    <tr>\n",
       "      <th>0</th>\n",
       "      <td>db5e62076fad2729571f211d7ca4d5be1ba71e7563efbb...</td>\n",
       "      <td>2021-09-09</td>\n",
       "      <td>5399</td>\n",
       "      <td>2322.00</td>\n",
       "    </tr>\n",
       "    <tr>\n",
       "      <th>1</th>\n",
       "      <td>9fc01d326a0adcb9caaabe298064b8a26aa711878cf89f...</td>\n",
       "      <td>2021-09-07</td>\n",
       "      <td>5533</td>\n",
       "      <td>1245.00</td>\n",
       "    </tr>\n",
       "    <tr>\n",
       "      <th>7</th>\n",
       "      <td>1ef28607bf5bd0ffe7a667adef4a1769ede8e93284a713...</td>\n",
       "      <td>2021-09-08</td>\n",
       "      <td>5411</td>\n",
       "      <td>1411.00</td>\n",
       "    </tr>\n",
       "    <tr>\n",
       "      <th>8</th>\n",
       "      <td>ec1acb6ccaaf88034067b0d58bb0b70621d8e7603a8ad9...</td>\n",
       "      <td>2021-08-22</td>\n",
       "      <td>5977</td>\n",
       "      <td>687.00</td>\n",
       "    </tr>\n",
       "    <tr>\n",
       "      <th>9</th>\n",
       "      <td>d33ced03426b6230fabdcbd4586146fb54319d7457ac63...</td>\n",
       "      <td>2021-08-28</td>\n",
       "      <td>4722</td>\n",
       "      <td>36360.00</td>\n",
       "    </tr>\n",
       "    <tr>\n",
       "      <th>...</th>\n",
       "      <td>...</td>\n",
       "      <td>...</td>\n",
       "      <td>...</td>\n",
       "      <td>...</td>\n",
       "    </tr>\n",
       "    <tr>\n",
       "      <th>396549</th>\n",
       "      <td>05ee68780a5e9193ac94a6fda2657739677dd7315df6b5...</td>\n",
       "      <td>2021-09-10</td>\n",
       "      <td>5200</td>\n",
       "      <td>1380.00</td>\n",
       "    </tr>\n",
       "    <tr>\n",
       "      <th>396550</th>\n",
       "      <td>9377d9cfdb4353a622e1152d18f6e7cf41623a1f5b70ba...</td>\n",
       "      <td>2021-08-22</td>\n",
       "      <td>5411</td>\n",
       "      <td>961.34</td>\n",
       "    </tr>\n",
       "    <tr>\n",
       "      <th>396552</th>\n",
       "      <td>e16c936dabdcf9aed007ab9fd32a7902b613c9a1562026...</td>\n",
       "      <td>2021-08-28</td>\n",
       "      <td>5541</td>\n",
       "      <td>1899.20</td>\n",
       "    </tr>\n",
       "    <tr>\n",
       "      <th>396559</th>\n",
       "      <td>7eb6a55c4ae62e156db06e84b0d245c7a815719f8a0f4d...</td>\n",
       "      <td>2021-09-11</td>\n",
       "      <td>5331</td>\n",
       "      <td>581.00</td>\n",
       "    </tr>\n",
       "    <tr>\n",
       "      <th>396563</th>\n",
       "      <td>9393729c2c93244b7d8994cbf98f3afefad735a3276462...</td>\n",
       "      <td>2021-08-27</td>\n",
       "      <td>6300</td>\n",
       "      <td>3290.66</td>\n",
       "    </tr>\n",
       "  </tbody>\n",
       "</table>\n",
       "<p>119872 rows × 4 columns</p>\n",
       "</div>"
      ],
      "text/plain": [
       "                                                  cust_id transaction_dt  \\\n",
       "0       db5e62076fad2729571f211d7ca4d5be1ba71e7563efbb...     2021-09-09   \n",
       "1       9fc01d326a0adcb9caaabe298064b8a26aa711878cf89f...     2021-09-07   \n",
       "7       1ef28607bf5bd0ffe7a667adef4a1769ede8e93284a713...     2021-09-08   \n",
       "8       ec1acb6ccaaf88034067b0d58bb0b70621d8e7603a8ad9...     2021-08-22   \n",
       "9       d33ced03426b6230fabdcbd4586146fb54319d7457ac63...     2021-08-28   \n",
       "...                                                   ...            ...   \n",
       "396549  05ee68780a5e9193ac94a6fda2657739677dd7315df6b5...     2021-09-10   \n",
       "396550  9377d9cfdb4353a622e1152d18f6e7cf41623a1f5b70ba...     2021-08-22   \n",
       "396552  e16c936dabdcf9aed007ab9fd32a7902b613c9a1562026...     2021-08-28   \n",
       "396559  7eb6a55c4ae62e156db06e84b0d245c7a815719f8a0f4d...     2021-09-11   \n",
       "396563  9393729c2c93244b7d8994cbf98f3afefad735a3276462...     2021-08-27   \n",
       "\n",
       "        mcc_id   txn_sum  \n",
       "0         5399   2322.00  \n",
       "1         5533   1245.00  \n",
       "7         5411   1411.00  \n",
       "8         5977    687.00  \n",
       "9         4722  36360.00  \n",
       "...        ...       ...  \n",
       "396549    5200   1380.00  \n",
       "396550    5411    961.34  \n",
       "396552    5541   1899.20  \n",
       "396559    5331    581.00  \n",
       "396563    6300   3290.66  \n",
       "\n",
       "[119872 rows x 4 columns]"
      ]
     },
     "execution_count": 28,
     "metadata": {},
     "output_type": "execute_result"
    }
   ],
   "source": [
    "temptransactions= transactions_particip[transactions_particip.txn_sum>=500]\n",
    "temptransactions = temptransactions.groupby('cust_id').filter(lambda x: len(x)>2)\n",
    "temptransactions\n",
    "# we got list of customers who complited rules of compain(3 trx at leats 500 rub)\n",
    "#now we are going to count the cashback and commisions of bank"
   ]
  },
  {
   "cell_type": "code",
   "execution_count": 19,
   "id": "4cdee96d",
   "metadata": {},
   "outputs": [
    {
     "name": "stdout",
     "output_type": "stream",
     "text": [
      "<class 'pandas.core.frame.DataFrame'>\n",
      "RangeIndex: 866130 entries, 0 to 866129\n",
      "Data columns (total 2 columns):\n",
      " #   Column                           Non-Null Count   Dtype \n",
      "---  ------                           --------------   ----- \n",
      " 0   tg_cust_id                       866130 non-null  object\n",
      " 1   synthetic_control_group_cust_id  866130 non-null  object\n",
      "dtypes: object(2)\n",
      "memory usage: 13.2+ MB\n"
     ]
    }
   ],
   "source": [
    "twins_to_compare.info()"
   ]
  },
  {
   "cell_type": "code",
   "execution_count": null,
   "id": "ede01fea",
   "metadata": {},
   "outputs": [],
   "source": []
  },
  {
   "cell_type": "code",
   "execution_count": null,
   "id": "f9f4dbf7",
   "metadata": {},
   "outputs": [],
   "source": []
  }
 ],
 "metadata": {
  "kernelspec": {
   "display_name": "Python 3",
   "language": "python",
   "name": "python3"
  },
  "language_info": {
   "codemirror_mode": {
    "name": "ipython",
    "version": 3
   },
   "file_extension": ".py",
   "mimetype": "text/x-python",
   "name": "python",
   "nbconvert_exporter": "python",
   "pygments_lexer": "ipython3",
   "version": "3.8.8"
  },
  "vscode": {
   "interpreter": {
    "hash": "e7bad0ac1aa26a74946558891a18889703194b8bb4bcf8afe430317f948a7773"
   }
  }
 },
 "nbformat": 4,
 "nbformat_minor": 5
}
